{
 "cells": [
  {
   "cell_type": "markdown",
   "id": "413a3048-7624-4fa6-a0e5-a2d92e55f9d0",
   "metadata": {},
   "source": [
    "#  Partial Coherence\n",
    "**Learning how to consider partially coherent X-rays/electron or any other form of experimental decoherence.**"
   ]
  },
  {
   "cell_type": "markdown",
   "id": "bc8f7e85-7830-406d-813f-89aae9f47459",
   "metadata": {},
   "source": [
    "---"
   ]
  },
  {
   "cell_type": "code",
   "execution_count": null,
   "id": "ee3cbe0e-7393-4e07-8e6c-a0063eb55dbe",
   "metadata": {},
   "outputs": [],
   "source": [
    "# copy graphene example from 12 but using modes"
   ]
  }
 ],
 "metadata": {
  "kernelspec": {
   "display_name": "Python 3.9 (CUDA 11.4)",
   "language": "python",
   "name": "python3"
  },
  "language_info": {
   "codemirror_mode": {
    "name": "ipython",
    "version": 3
   },
   "file_extension": ".py",
   "mimetype": "text/x-python",
   "name": "python",
   "nbconvert_exporter": "python",
   "pygments_lexer": "ipython3",
   "version": "3.9.9"
  }
 },
 "nbformat": 4,
 "nbformat_minor": 5
}
