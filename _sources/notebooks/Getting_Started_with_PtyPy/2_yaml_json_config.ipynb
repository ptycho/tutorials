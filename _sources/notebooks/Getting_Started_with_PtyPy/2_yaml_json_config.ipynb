{
 "cells": [
  {
   "cell_type": "markdown",
   "id": "524c7687-619e-4b03-95ff-24a99257f9e4",
   "metadata": {},
   "source": [
    "# JSON/YAML Config Files\n",
    "**Loading a PtyPy parameter tree from a JSON/YAML file and running the reconstruction.**"
   ]
  },
  {
   "cell_type": "markdown",
   "id": "46366720-b3b1-4c5a-9b03-5da308cff4ed",
   "metadata": {},
   "source": [
    "Some users might prefer to specify the parameter tree as a [JSON](https://www.json.org/json-en.html) or [YAML](https://yaml.org/) configuration file. The same [PtyPy parameter tree](1_the_parameter_tree.ipynb) from the previous example, looks like this in JSON format:\n",
    "\n",
    "```json\n",
    "{\n",
    "    \"verbose_level\": \"interactive\",\n",
    "    \"io\": {\n",
    "        \"rfile\": null,\n",
    "        \"autosave\": {\n",
    "            \"active\": false\n",
    "        },\n",
    "        \"autoplot\": {\n",
    "            \"active\": false\n",
    "        },\n",
    "        \"interaction\": {\n",
    "            \"active\": false\n",
    "        }\n",
    "    },\n",
    "    \"scans\": {\n",
    "        \"MF\": {\n",
    "            \"name\": \"Full\",\n",
    "            \"data\": {\n",
    "                \"name\": \"MoonFlowerScan\",\n",
    "                \"shape\": 128\n",
    "                \"num_frames\": 200,\n",
    "                \"save\": null,\n",
    "                \"density\": 0.2,\n",
    "                \"photons\": 1e8,\n",
    "                \"psf\": 0.0,\n",
    "\n",
    "            }\n",
    "        }\n",
    "    },\n",
    "    \"engines\": {\n",
    "        \"engine00\": {\n",
    "            \"name\": \"DM\",\n",
    "            \"numiter\": 80\n",
    "        }\n",
    "    }\n",
    "}\n",
    "```"
   ]
  },
  {
   "cell_type": "markdown",
   "id": "8f9edef5-b412-46f8-9dae-a3a21955ae04",
   "metadata": {},
   "source": [
    "and like this in the slighty more compact YAML format:\n",
    "\n",
    "```yaml\n",
    "verbose_level: \"interactive\"\n",
    "io:\n",
    "  rfile: null\n",
    "  autosave:\n",
    "    active: false\n",
    "  autoplot:\n",
    "    active: False\n",
    "  interaction:\n",
    "    active: false\n",
    "scans:\n",
    "  MF:\n",
    "    name: \"Full\"\n",
    "    data:\n",
    "      name: \"MoonFlowerScan\"\n",
    "      shape: 128\n",
    "      num_frames: 200\n",
    "      save: null\n",
    "      density: 0.2\n",
    "      photons: 1.0e+08\n",
    "      psf: 0.\n",
    "engines:\n",
    "  engine00:\n",
    "    name: \"DM\"\n",
    "    numiter: 80\n",
    "```"
   ]
  },
  {
   "cell_type": "markdown",
   "id": "b56d1694-9daa-4ae0-a719-52a18652b626",
   "metadata": {},
   "source": [
    "If we save these JSON/YAML config files as ```config/moonflower.json``` and ```config/moonflower.yaml```, respectively (you should already have these files in the same folder as this notebook), we can simply import the parameter tree from a JSON file into our PtyPy script/notebook like this\n",
    "```python\n",
    "import ptypy\n",
    "import ptypy.utils as u\n",
    "import json\n",
    "\n",
    "# Parameter tree\n",
    "p = u.param_from_json(\"config/moonflower.json\")\n",
    "\n",
    "# Prepare and run\n",
    "P = ptypy.core.Ptycho(p,level=5)\n",
    "\n",
    "# Display the results\n",
    "u.plot_recon_from_ptycho(P)\n",
    "```"
   ]
  },
  {
   "cell_type": "markdown",
   "id": "15cbef48-aeeb-444a-a691-b2a5eb687523",
   "metadata": {},
   "source": [
    "and the same from a YAML file\n",
    "\n",
    "```python\n",
    "import ptypy\n",
    "import ptypy.utils as u\n",
    "import yaml\n",
    "\n",
    "# Parameter tree\n",
    "p = u.param_from_yaml(\"config/moonflower.yaml\")\n",
    "\n",
    "# Prepare and run\n",
    "P = ptypy.core.Ptycho(p,level=5)\n",
    "\n",
    "# Display the results\n",
    "u.plot_recon_from_ptycho(P)\n",
    "```"
   ]
  },
  {
   "cell_type": "markdown",
   "id": "85144dd3-5bec-4c1f-91ea-344fd9b8055e",
   "metadata": {},
   "source": [
    "<div class=\"alert alert-warning\" markdown=\"1\">\n",
    "    <strong>Exersice</strong><br>Open the JSON/YAML config file, modify the DM <code>numiter</code> to 100 and run the MoonFlower example below. \n",
    "</div>"
   ]
  },
  {
   "cell_type": "markdown",
   "id": "12e4525b-76f4-4306-9d4d-39949db688c3",
   "metadata": {},
   "source": [
    "<div class=\"alert alert-success\" markdown=\"1\">\n",
    "    <strong>Hint</strong><br>Within the file browser of the JupyterLab interface you can use Right Click -> Open With -> Editor to modify the config files. \n",
    "</div>"
   ]
  },
  {
   "cell_type": "markdown",
   "id": "9a895c4d-76d5-4e30-90fb-6ac1f5ea9036",
   "metadata": {},
   "source": [
    "---"
   ]
  },
  {
   "cell_type": "code",
   "execution_count": null,
   "id": "48b33ace-b925-427b-a2f1-d18fa8ad44e7",
   "metadata": {},
   "outputs": [],
   "source": [
    "import ptypy\n",
    "import ptypy.utils as u\n",
    "import json\n",
    "\n",
    "# Parameter tree\n",
    "p = u.param_from_json(\"config/moonflower.json\")\n",
    "\n",
    "# Prepare and run\n",
    "P = ptypy.core.Ptycho(p,level=5)\n",
    "\n",
    "# Display the results\n",
    "u.plot_recon_from_ptycho(P)"
   ]
  },
  {
   "cell_type": "code",
   "execution_count": null,
   "id": "fb7bdda5-90a9-46ca-8b02-56c9ecbda10b",
   "metadata": {},
   "outputs": [],
   "source": [
    "import ptypy\n",
    "import ptypy.utils as u\n",
    "import yaml\n",
    "\n",
    "# Parameter tree\n",
    "p = u.param_from_yaml(\"config/moonflower.yaml\")\n",
    "\n",
    "# Prepare and run\n",
    "P = ptypy.core.Ptycho(p,level=5)\n",
    "\n",
    "# Display the results\n",
    "u.plot_recon_from_ptycho(P)"
   ]
  }
 ],
 "metadata": {
  "kernelspec": {
   "display_name": "PtyPy",
   "language": "python",
   "name": "ptypy_pycuda"
  },
  "language_info": {
   "codemirror_mode": {
    "name": "ipython",
    "version": 3
   },
   "file_extension": ".py",
   "mimetype": "text/x-python",
   "name": "python",
   "nbconvert_exporter": "python",
   "pygments_lexer": "ipython3",
   "version": "3.9.15"
  }
 },
 "nbformat": 4,
 "nbformat_minor": 5
}
