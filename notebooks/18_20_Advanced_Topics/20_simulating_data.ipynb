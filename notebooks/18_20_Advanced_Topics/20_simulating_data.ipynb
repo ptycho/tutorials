{
 "cells": [
  {
   "cell_type": "markdown",
   "id": "4c31a415-5faf-41d2-8f2f-29b98e2b614c",
   "metadata": {},
   "source": [
    "# Simulating Data"
   ]
  },
  {
   "cell_type": "markdown",
   "id": "6feacf01-948b-4396-adea-e5ddd19320b8",
   "metadata": {},
   "source": [
    "**Learning how to use PtyPy as a Simulator for ptychography experiments.**"
   ]
  },
  {
   "cell_type": "markdown",
   "id": "4eeb6d6e-f36d-497f-b721-469ad357fff5",
   "metadata": {},
   "source": [
    "---"
   ]
  },
  {
   "cell_type": "code",
   "execution_count": null,
   "id": "3d920728-63e9-4070-bbab-455a97d8303b",
   "metadata": {},
   "outputs": [],
   "source": [
    "import ptypy\n",
    "import ptypy.utils as u\n",
    "import os, imageio\n",
    "import numpy as np\n",
    "\n",
    "# Root directory of tutorial data\n",
    "tutorial_data_home = \"/dls/science/groups/imaging/ptypy_tutorials/\"\n",
    "\n",
    "# Probe/object to be used for simulation\n",
    "path_to_probe = \"small_data/dls_i08_nanogold_recon.ptyr\"\n",
    "path_to_image = \"small_data/bubbles.jpg\"\n",
    "path_to_image = \"small_data/painting.jpg\"\n",
    "sim_probe = os.path.join(tutorial_data_home, path_to_probe)\n",
    "sim_image = os.path.join(tutorial_data_home, path_to_image)\n",
    "\n",
    "# Create parameter tree\n",
    "p = u.Param()\n",
    "\n",
    "# Set verbose level, can be \"interactive\", \"info\" or \"debug\"\n",
    "p.verbose_level = \"interactive\"\n",
    "\n",
    "# Basic I/O settings (no files saved in this case)\n",
    "p.io = u.Param()\n",
    "p.io.rfile = None\n",
    "p.io.autosave = u.Param(active=False)\n",
    "p.io.autoplot = u.Param(active=False)\n",
    "p.io.interaction = u.Param(active=False)\n",
    "\n",
    "# Scan model\n",
    "p.scans = u.Param()\n",
    "p.scans.scan_00 = u.Param()\n",
    "p.scans.scan_00.name = 'BlockFull'\n",
    "p.scans.scan_00.coherence = u.Param()\n",
    "p.scans.scan_00.coherence.num_probe_modes=1\n",
    "\n",
    "# Initial illumination for reconstruction\n",
    "p.scans.scan_00.illumination = u.Param()\n",
    "p.scans.scan_00.illumination.model = \"recon\"\n",
    "p.scans.scan_00.illumination.recon = u.Param()\n",
    "p.scans.scan_00.illumination.recon.rfile = sim_probe\n",
    "p.scans.scan_00.illumination.photons = None\n",
    "p.scans.scan_00.illumination.aperture = None\n",
    "p.scans.scan_00.illumination.propagation = u.Param()\n",
    "p.scans.scan_00.illumination.propagation.parallel = 50e-6\n",
    "\n",
    "# Scan data (simulation) parameters\n",
    "# using typical values for I08-1 instrument\n",
    "p.scans.scan_00.data = u.Param()\n",
    "p.scans.scan_00.data.name = 'SimScan'\n",
    "p.scans.scan_00.data.energy = 0.7\n",
    "p.scans.scan_00.data.distance = 0.072\n",
    "p.scans.scan_00.data.psize = 22e-6\n",
    "p.scans.scan_00.data.shape = 512\n",
    "\n",
    "# Scanning parameters\n",
    "p.scans.scan_00.data.xy = u.Param()\n",
    "p.scans.scan_00.data.xy.model = \"raster\"\n",
    "p.scans.scan_00.data.xy.spacing = 50e-9\n",
    "p.scans.scan_00.data.xy.steps = 10\n",
    "\n",
    "# Illumination to be used for simulation\n",
    "p.scans.scan_00.data.illumination = u.Param()\n",
    "p.scans.scan_00.data.illumination.model = \"recon\"\n",
    "p.scans.scan_00.data.illumination.recon = u.Param()\n",
    "p.scans.scan_00.data.illumination.recon.rfile = sim_probe\n",
    "p.scans.scan_00.data.illumination.photons = 1e11\n",
    "p.scans.scan_00.data.illumination.aperture = None\n",
    "p.scans.scan_00.data.illumination.propagation = u.Param()\n",
    "p.scans.scan_00.data.illumination.propagation.parallel = 50e-6\n",
    "\n",
    "# Object to be used for simulation\n",
    "p.scans.scan_00.data.sample = u.Param()\n",
    "p.scans.scan_00.data.sample.model = u.rgb2complex(np.array(imageio.imread(sim_image)))\n",
    "p.scans.scan_00.data.sample.process = u.Param()\n",
    "p.scans.scan_00.data.sample.process.offset = (0,200)\n",
    "p.scans.scan_00.data.sample.process.zoom = 0.5\n",
    "p.scans.scan_00.data.sample.process.formula = None\n",
    "p.scans.scan_00.data.sample.process.density = None\n",
    "p.scans.scan_00.data.sample.process.thickness = None\n",
    "p.scans.scan_00.data.sample.process.ref_index = None\n",
    "p.scans.scan_00.data.sample.process.smoothing = None\n",
    "p.scans.scan_00.data.sample.fill = 1.0+0.j\n",
    "\n",
    "# Detector parameters\n",
    "p.scans.scan_00.data.detector = u.Param()\n",
    "p.scans.scan_00.data.detector.dtype = np.uint32\n",
    "p.scans.scan_00.data.detector.full_well = 2**32-1\n",
    "p.scans.scan_00.data.detector.psf = None\n",
    "p.scans.scan_00.data.plot = False\n",
    "\n",
    "# Reconstruction parameters\n",
    "p.engines = u.Param()\n",
    "p.engines.engine = u.Param()\n",
    "p.engines.engine.name = 'DM'\n",
    "p.engines.engine.numiter = 40\n",
    "p.engines.engine.numiter_contiguous = 1\n",
    "p.engines.engine.alpha = 0.9\n",
    "p.engines.engine.probe_support = None\n",
    "p.engines.engine.probe_update_start = 0\n",
    "\n",
    "P = ptypy.core.Ptycho(p, level=5)"
   ]
  },
  {
   "cell_type": "code",
   "execution_count": null,
   "id": "bbbfdef3-4d4d-4a54-a879-20d2f32417bd",
   "metadata": {},
   "outputs": [],
   "source": [
    "u.plot_recon_from_ptycho(P, pmin=1, pmax=2,probe_channel=\"c\", cropping=0.1)"
   ]
  }
 ],
 "metadata": {
  "kernelspec": {
   "display_name": "Python 3.9 (CUDA 11.4)",
   "language": "python",
   "name": "python3"
  },
  "language_info": {
   "codemirror_mode": {
    "name": "ipython",
    "version": 3
   },
   "file_extension": ".py",
   "mimetype": "text/x-python",
   "name": "python",
   "nbconvert_exporter": "python",
   "pygments_lexer": "ipython3",
   "version": "3.9.9"
  }
 },
 "nbformat": 4,
 "nbformat_minor": 5
}
