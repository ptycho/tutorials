{
 "cells": [
  {
   "cell_type": "markdown",
   "id": "1f52c76d-dea5-4c11-b5a1-b3501d6a2043",
   "metadata": {},
   "source": [
    "# Reconstruction Engines\n",
    "**Learning more about the different engines and their parameters.**"
   ]
  },
  {
   "cell_type": "markdown",
   "id": "4cd30ed0-5676-454b-832e-442441fd88b1",
   "metadata": {},
   "source": [
    "PtyPy offers a range of different reconstruction engines that can be grouped into the 3 main categories of\n",
    "\n",
    "- Projectional engines (DM, RAAR)\n",
    "- Stochastic engines (ePIE, SDR)\n",
    "- Gradient-based engines (ML)\n",
    "\n",
    "These engine groups share similar sets of parameters. In this example, we pick one from each category and look at some of their parameters."
   ]
  },
  {
   "cell_type": "markdown",
   "id": "e5824c6e-a4cb-44aa-9d5d-5170ddbdb262",
   "metadata": {},
   "source": [
    "## Difference Map (DM) algorithm\n",
    "In PtyPy we have implemented a generalised version of the difference map algorithm with the following update for the exit wave $\\Psi$ of every view\n",
    "\n",
    "$$\n",
    "\\Psi_{j+1} = \\{\\alpha (\\mathbb{I} - \\mathcal{O}) + \\mathcal{F} [(1 + \\alpha) \\mathcal{O} - \\alpha \\mathbb{I}]\\}(\\Psi_{j})\n",
    "$$\n",
    "\n",
    "where $\\mathcal{O}$ and $\\mathcal{F}$ are the overlap and Fourier update, respectively. $\\mathbb{I}$ is the idenity matrix and $\\alpha$ is a tuning parameter that blends pure alternating projections ($\\alpha=0$) with the original DM algorithm ($\\alpha=1$). By its very nature, $\\alpha=1$ is more exploratory but can be a bit too \"aggressive\" in some cases, whereas $\\alpha=0$ has a tendency to get stuck in local minima. In practice, $\\alpha=0.95$ seems to be a good and robust compromise. In our moonflower example, we can adjust the `alpha` parameter accordingly\n",
    "\n",
    "```python\n",
    "p.engines.engine00 = u.Param()\n",
    "p.engines.engine00.name = \"DM\"\n",
    "p.engines.engine00.numiter = 80\n",
    "p.engines.engine00.alpha = 0.95\n",
    "\n",
    "```"
   ]
  },
  {
   "cell_type": "markdown",
   "id": "7c473877-966d-489c-8d28-2bdb0f6f4f85",
   "metadata": {},
   "source": [
    "<div class=\"alert alert-danger\" markdown=\"1\">\n",
    "<strong>TODO</strong><br>Overlap update, Fourier update including parameters <code>probe_update_start</code>, <code>update_object_first</code>, <code>overlap_converge_factor</code>, <code>overlap_max_iterations</code> and <code>fourier_power_pound</code>.\n",
    "</div>"
   ]
  },
  {
   "cell_type": "markdown",
   "id": "76f481d6-ff4a-4d2f-857b-ba0a8389d592",
   "metadata": {},
   "source": [
    "<div class=\"alert alert-warning\" markdown=\"1\">\n",
    "    <strong>Exersice</strong><br>Modify different DM engine parameters and observe their impact on the outcome of the reconstruction.\n",
    "</div>"
   ]
  },
  {
   "cell_type": "markdown",
   "id": "8cfbdb93-105f-4a06-9bf1-83202aa866b4",
   "metadata": {},
   "source": [
    "---"
   ]
  },
  {
   "cell_type": "code",
   "execution_count": null,
   "id": "287ef8c5-d6cb-4e70-a600-ebb487d5ff1f",
   "metadata": {},
   "outputs": [],
   "source": [
    "import ptypy\n",
    "import ptypy.utils as u\n",
    "\n",
    "p = u.Param()\n",
    "p.verbose_level = \"interactive\"\n",
    "p.io = u.Param()\n",
    "p.io.rfile = None\n",
    "p.io.autosave = u.Param(active=False)\n",
    "p.io.autoplot = u.Param(active=False)\n",
    "p.io.interaction = u.Param(active=False)\n",
    "\n",
    "p.scans = u.Param()\n",
    "p.scans.MF = u.Param()\n",
    "p.scans.MF.name = \"Full\"\n",
    "p.scans.MF.data= u.Param()\n",
    "p.scans.MF.data.name = \"MoonFlowerScan\"\n",
    "p.scans.MF.data.shape = 128\n",
    "p.scans.MF.data.num_frames = 200\n",
    "p.scans.MF.data.save = None\n",
    "p.scans.MF.data.density = 0.2\n",
    "p.scans.MF.data.photons = 1e8\n",
    "p.scans.MF.data.psf = 0.\n",
    "\n",
    "# Define reconstruction engines\n",
    "p.engines = u.Param()\n",
    "\n",
    "# Difference Map (DM) engine\n",
    "p.engines.engine00 = u.Param()\n",
    "p.engines.engine00.name = \"DM\"\n",
    "p.engines.engine00.numiter = 80\n",
    "\n",
    "# General update\n",
    "p.engines.engine00.alpha = 0.95\n",
    "\n",
    "# Overlap update\n",
    "p.engines.engine00.overlap_converge_factor = 0.05\n",
    "p.engines.engine00.overlap_max_iterations = 10\n",
    "p.engines.engine00.update_object_first = True\n",
    "p.engines.engine00.probe_update_start = 2\n",
    "\n",
    "# Fourier update\n",
    "p.engines.engine00.fourier_power_bound = 0.25\n",
    "\n",
    "P = ptypy.core.Ptycho(p,level=5)\n",
    "u.plot_recon_from_ptycho(P)"
   ]
  },
  {
   "cell_type": "markdown",
   "id": "57b76997-6925-45b8-b865-d36f0649f911",
   "metadata": {},
   "source": [
    "## ePIE algorithm\n",
    "\n",
    "The exit wave update in standard ePIE is basically like alternating projects in that\n",
    "\n",
    "$$\n",
    "\\Psi_{j+1} = \\mathcal{F} (\\mathcal{O}(\\Psi_{j}))\n",
    "$$\n",
    "\n",
    "where $\\mathcal{O}$ and $\\mathcal{F}$ are again the overlap and Fourier update, respectively. In contrast to projectional methods ePIE is following a stochastic approach where the exit wave is updated sequentially for randomly selected views. In each of these randomized steps as part of the overlap update, the probe $P_{j}$ and object $O_{j}$ are modified like this \n",
    "\n",
    "$$\n",
    "O_{j+1} = O_{j} + \\alpha \\cdot P_{j}^{*} \\cdot [\\Psi_{\\prime} - \\Psi_{j+1}] / ||P_{j}||_{max}^2\n",
    "$$ \n",
    "\n",
    "$$\n",
    "P_{j+1} = P_{j} + \\beta \\cdot O_{j+1}^{*} \\cdot [\\Psi_{\\prime} - \\Psi_{j+1}] / ||O_{j}||_{max}^2\n",
    "$$ \n",
    "\n",
    "where $\\Psi_{\\prime} = \\mathcal{O}(\\Psi_{j}) = P_{j} \\cdot O_{j}$ is the exit wave from the previously updated view, $^{*}$ is the complex conjugate and $||\\cdot||_{max}$ is the maximum norm. The parameters $\\alpha$ and $\\beta$ control the strength of object and probe update, respectively and are both equal to $1$ by default. Lowering $\\alpha$ or $\\beta$ will lower the impact of the object/probe update in each stochastic update, which slows down convergence but might help in escaping artefacts that can occur in some cases. In practice, $\\alpha=0.1$ and $\\beta=0.9$ seems to be a good compromise for more tricky datasets. In our moonflower example we can control this by tuning `alpha` and `beta` accordingly\n",
    "\n",
    "```python\n",
    "p.engines.engine00 = u.Param()\n",
    "p.engines.engine00.name = \"EPIE\"\n",
    "p.engines.engine00.numiter = 200\n",
    "p.engines.engine00.alpha = 0.9\n",
    "p.engines.engine00.beta = 0.1\n",
    "```"
   ]
  },
  {
   "cell_type": "markdown",
   "id": "559a38ae-f3c8-4824-8bef-7cde5786d3e9",
   "metadata": {},
   "source": [
    "<div class=\"alert alert-danger\" markdown=\"1\">\n",
    "<strong>TODO</strong><br>Explain different object norm approaches.\n",
    "</div>"
   ]
  },
  {
   "cell_type": "markdown",
   "id": "bfec5d82-46e7-4057-992d-c651b8639bcc",
   "metadata": {},
   "source": [
    "<div class=\"alert alert-warning\" markdown=\"1\">\n",
    "    <strong>Exersice</strong><br>Modify different ePIE engine parameters and observe their impact on the outcome of the reconstruction.\n",
    "</div>"
   ]
  },
  {
   "cell_type": "markdown",
   "id": "fdd49fcb-b0be-43d0-afea-c7f6e456fd10",
   "metadata": {},
   "source": [
    "---"
   ]
  },
  {
   "cell_type": "code",
   "execution_count": null,
   "id": "9512d108-22e4-42c1-98e7-eb9e231a7123",
   "metadata": {},
   "outputs": [],
   "source": [
    "import ptypy\n",
    "import ptypy.utils as u\n",
    "\n",
    "p = u.Param()\n",
    "p.verbose_level = \"interactive\"\n",
    "p.io = u.Param()\n",
    "p.io.rfile = None\n",
    "p.io.autosave = u.Param(active=False)\n",
    "p.io.autoplot = u.Param(active=False)\n",
    "p.io.interaction = u.Param(active=False)\n",
    "\n",
    "p.scans = u.Param()\n",
    "p.scans.MF = u.Param()\n",
    "p.scans.MF.name = \"Full\"\n",
    "p.scans.MF.data= u.Param()\n",
    "p.scans.MF.data.name = \"MoonFlowerScan\"\n",
    "p.scans.MF.data.shape = 128\n",
    "p.scans.MF.data.num_frames = 200\n",
    "p.scans.MF.data.save = None\n",
    "p.scans.MF.data.density = 0.2\n",
    "p.scans.MF.data.photons = 1e8\n",
    "p.scans.MF.data.psf = 0.\n",
    "\n",
    "# Define reconstruction engines\n",
    "p.engines = u.Param()\n",
    "\n",
    "# ePIE engine\n",
    "p.engines.engine00 = u.Param()\n",
    "p.engines.engine00.name = \"EPIE\"\n",
    "p.engines.engine00.numiter = 200\n",
    "p.engines.engine00.alpha = 0.9\n",
    "p.engines.engine00.beta = 0.1\n",
    "\n",
    "P = ptypy.core.Ptycho(p,level=5)\n",
    "u.plot_recon_from_ptycho(P)"
   ]
  },
  {
   "cell_type": "markdown",
   "id": "818f0157-fa7d-4098-982e-4ed6869a98bf",
   "metadata": {},
   "source": [
    "## Maximum Likelihood (ML) algorithm\n",
    "\n",
    "..."
   ]
  },
  {
   "cell_type": "markdown",
   "id": "8f532e18-21e8-4c8c-9354-93da7768dcfb",
   "metadata": {},
   "source": [
    "<div class=\"alert alert-danger\" markdown=\"1\">\n",
    "<strong>TODO</strong><br>Explain different object norm approaches.\n",
    "</div>"
   ]
  },
  {
   "cell_type": "markdown",
   "id": "e4153fbf-b6ef-4e7a-8bd7-f3a6cc7aad63",
   "metadata": {},
   "source": [
    "<div class=\"alert alert-warning\" markdown=\"1\">\n",
    "    <strong>Exersice</strong><br>Modify different ML engine parameters and observe their impact on the outcome of the reconstruction.\n",
    "</div>"
   ]
  },
  {
   "cell_type": "markdown",
   "id": "b5d90e90-e876-484e-a73e-f518aacaf010",
   "metadata": {},
   "source": [
    "---"
   ]
  },
  {
   "cell_type": "code",
   "execution_count": null,
   "id": "0c76e356-b687-4851-bebe-26b21e33ade3",
   "metadata": {},
   "outputs": [],
   "source": [
    "import ptypy\n",
    "import ptypy.utils as u\n",
    "\n",
    "p = u.Param()\n",
    "p.verbose_level = \"interactive\"\n",
    "p.io = u.Param()\n",
    "p.io.rfile = None\n",
    "p.io.autosave = u.Param(active=False)\n",
    "p.io.autoplot = u.Param(active=False)\n",
    "p.io.interaction = u.Param(active=False)\n",
    "\n",
    "p.scans = u.Param()\n",
    "p.scans.MF = u.Param()\n",
    "p.scans.MF.name = \"Full\"\n",
    "p.scans.MF.data= u.Param()\n",
    "p.scans.MF.data.name = \"MoonFlowerScan\"\n",
    "p.scans.MF.data.shape = 128\n",
    "p.scans.MF.data.num_frames = 200\n",
    "p.scans.MF.data.save = None\n",
    "p.scans.MF.data.density = 0.2\n",
    "p.scans.MF.data.photons = 1e8\n",
    "p.scans.MF.data.psf = 0.\n",
    "\n",
    "# Define reconstruction engines\n",
    "p.engines = u.Param()\n",
    "\n",
    "# Maximum Likelihood (ML) engine\n",
    "p.engines.engine00 = u.Param()\n",
    "p.engines.engine00.name = \"ML\"\n",
    "p.engines.engine00.numiter = 300\n",
    "p.engines.engine00.reg_del2 = True \n",
    "p.engines.engine00.reg_del2_amplitude = 1.\n",
    "p.engines.engine00.scale_precond = True\n",
    "\n",
    "P = ptypy.core.Ptycho(p,level=5)\n",
    "u.plot_recon_from_ptycho(P)"
   ]
  },
  {
   "cell_type": "markdown",
   "id": "5478aeb6-1dce-4588-b50b-b5ac37af8194",
   "metadata": {},
   "source": [
    "## GPU-accelerated engines"
   ]
  },
  {
   "cell_type": "markdown",
   "id": "d799a960-edc3-4df7-9519-de9d029d6d9c",
   "metadata": {},
   "source": [
    "For running the GPU-accelerated equivalent of the engines described above, simple add this line at the top of the script\n",
    "\n",
    "```python\n",
    "ptypy.load_gpu_engines(\"cuda\")\n",
    "```\n",
    "\n",
    "and add \"_pycuda\" to the engine name, for example\n",
    "\n",
    "```python\n",
    "# Difference Map (DM) engine\n",
    "p.engines.engine00 = u.Param()\n",
    "p.engines.engine00.name = \"DM_pycuda\"\n",
    "```"
   ]
  },
  {
   "cell_type": "markdown",
   "id": "a9497398-fc58-4a72-8eb0-c1e8bcd5036f",
   "metadata": {},
   "source": [
    "<div class=\"alert alert-warning\" markdown=\"1\">\n",
    "    <strong>Exersice</strong><br>Run the GPU-accelerated version of the above examples of different engines and observe the increase in reconstruction speed.\n",
    "</div>"
   ]
  },
  {
   "cell_type": "markdown",
   "id": "d6de4f7b-c11f-4510-bb7c-961136ad7d15",
   "metadata": {},
   "source": [
    "---"
   ]
  },
  {
   "cell_type": "code",
   "execution_count": null,
   "id": "cafb9d51-4890-45ac-8f35-a8611b2b8f35",
   "metadata": {},
   "outputs": [],
   "source": [
    "import ptypy\n",
    "import ptypy.utils as u\n",
    "\n",
    "ptypy.load_gpu_engines(\"cuda\")\n",
    "\n",
    "# Copy the parameter tree here\n",
    "# ..."
   ]
  }
 ],
 "metadata": {
  "kernelspec": {
   "display_name": "Python 3.9 (CUDA 11.4)",
   "language": "python",
   "name": "python3"
  },
  "language_info": {
   "codemirror_mode": {
    "name": "ipython",
    "version": 3
   },
   "file_extension": ".py",
   "mimetype": "text/x-python",
   "name": "python",
   "nbconvert_exporter": "python",
   "pygments_lexer": "ipython3",
   "version": "3.9.9"
  }
 },
 "nbformat": 4,
 "nbformat_minor": 5
}
