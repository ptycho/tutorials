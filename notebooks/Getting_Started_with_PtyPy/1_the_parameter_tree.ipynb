{
 "cells": [
  {
   "cell_type": "markdown",
   "id": "b17cc207-0f09-4783-bc8b-271c9ffc4fdb",
   "metadata": {},
   "source": [
    "# The Parameter Tree"
   ]
  },
  {
   "cell_type": "markdown",
   "id": "ac301b14-e196-4000-beaf-e630f191b414",
   "metadata": {},
   "source": [
    "**Getting familiar with the PtyPy parameter tree using the MoonFlower simulation/reconstruction.**"
   ]
  },
  {
   "cell_type": "markdown",
   "id": "d45589a1-6db7-4ea9-856b-4471b7cb2f55",
   "metadata": {},
   "source": [
    "In PtyPy, the parameter tree is a Python object - more specifically a dictionary-like [ptypy.utils.Param](https://ptycho.github.io/ptypy/rst/ptypy.utils.html#ptypy.utils.parameters.Param) object. This means that we can put together a Python script (or Jupyter notebook), define all relevant parameters and execute the script (notebook) to run a ptychographic reconstruction! Let's have a look at this parameter tree and its building blocks..."
   ]
  },
  {
   "cell_type": "markdown",
   "id": "13f8b2d2-ddb4-41a3-89ef-fdce4e470f77",
   "metadata": {},
   "source": [
    "<div class=\"alert alert-success\" markdown=\"1\">\n",
    "<strong>Tip</strong><br>A full list of available parameters can be found here: <a href=\"https://ptycho.github.io/ptypy/rst/parameters.html\">https://ptycho.github.io/ptypy/rst/parameters.html</a>\n",
    "</div>"
   ]
  },
  {
   "cell_type": "markdown",
   "id": "974472c6-a33d-4eea-bb85-432fb4b47052",
   "metadata": {},
   "source": [
    "First, we need to import ```ptypy```.\n",
    "```python\n",
    "import ptypy\n",
    "import ptypy.utils as u\n",
    "```"
   ]
  },
  {
   "cell_type": "markdown",
   "id": "1a7e551c-5576-4de4-a4b4-748b998c49ab",
   "metadata": {},
   "source": [
    "We start by creating an empty root parameter tree ```p```.\n",
    "```python\n",
    "p = u.Param()\n",
    "```"
   ]
  },
  {
   "cell_type": "markdown",
   "id": "1f3a5085-10e1-4974-8a4e-78765830c305",
   "metadata": {},
   "source": [
    "We set the ```verbose_level``` to ```\"interactive\"``` which is preferred for Jupyter notebooks since it gives a more condensed user output. You can use ```\"info\"``` or ```\"debug\"``` for a more detailed output.\n",
    "```python\n",
    "p.verbose_level = \"interactive\"\n",
    "```"
   ]
  },
  {
   "cell_type": "markdown",
   "id": "7a2609cb-7219-4cef-b311-3e8b8527f3cf",
   "metadata": {},
   "source": [
    "Next we create a subtree for input/output related parameters. For this particular example, we don't save any files and turn off autoplotting.\n",
    "```python\n",
    "p.io = u.Param()\n",
    "p.io.rfile = None\n",
    "p.io.autosave = u.Param(active=False)\n",
    "p.io.autoplot = u.Param(active=False)\n",
    "p.io.interaction = u.Param(active=False)\n",
    "```"
   ]
  },
  {
   "cell_type": "markdown",
   "id": "199f5abd-9e30-4183-95e1-7f9fb4a03cbe",
   "metadata": {},
   "source": [
    "<div class=\"alert alert-info\" markdown=\"1\">\n",
    "<strong>Note</strong><br>Parameters can be specified as arguments to the <code>u.Param</code> class when creating a tree/subtree, like\n",
    "<pre><code>p.io.interaction = u.Param(active=False)\n",
    "</code></pre>\n",
    "instead of\n",
    "<pre><code>p.io.interaction = u.Param()\n",
    "p.io.interaction.active = False\n",
    "</code></pre>\n",
    "</div>"
   ]
  },
  {
   "cell_type": "markdown",
   "id": "ec47ed19-312f-4f01-8dd1-cb1f97379d1c",
   "metadata": {},
   "source": [
    "PtyPy allows us to define multiple scans in a single reconstruction, but in most cases we just define a single scan instance. In this case, we create a scan of type (scan model) ```\"Full\"``` called ```MF``` (named after the **M**oon**F**lower simulation example used here).\n",
    "```python\n",
    "p.scans = u.Param()\n",
    "p.scans.MF = u.Param()\n",
    "p.scans.MF.name = \"Full\"\n",
    "```"
   ]
  },
  {
   "cell_type": "markdown",
   "id": "47d05c6e-4161-49f4-b5a6-14c9ab27b878",
   "metadata": {},
   "source": [
    "The scan model creates the [Views](https://ptycho.github.io/ptypy/rst/ptypy.core.html#ptypy.core.classes.View), [Containers](https://ptycho.github.io/ptypy/rst/ptypy.core.html#ptypy.core.classes.Container) and [Storages](https://ptycho.github.io/ptypy/rst/ptypy.core.html#ptypy.core.classes.Storage) for the ```object```, ```probe``` and other data structures including the [PODs](https://ptycho.github.io/ptypy/rst/ptypy.core.html#ptypy.core.classes.POD) which links them all together. "
   ]
  },
  {
   "cell_type": "markdown",
   "id": "df6e468b-4ece-4b23-a796-0e54035bb783",
   "metadata": {},
   "source": [
    "<div class=\"alert alert-success\" markdown=\"1\">\n",
    "<strong>Tip</strong><br>To learn more about these classes and their underlying concepts, visit this <a href url=\"https://ptycho.github.io/ptypy/rst/concept.html\">tutorial</a> from the main PtyPy documentation.\n",
    "</div>"
   ]
  },
  {
   "cell_type": "markdown",
   "id": "1f46f0ae-afd5-41b1-a75d-6b847ba17e0e",
   "metadata": {},
   "source": [
    "As part of the scan we also need to define a ```data``` subtree, holding all relevant information related to the data (or simulated data) we are trying to reconstruct. For a real experiment, users can create their own data loader by subclassing [ptypy.core.data.PtyScan](https://ptycho.github.io/ptypy/rst/ptypy.core.html#ptypy.core.data.PtyScan) or using the generic [ptypy.experiment.hdf5_loader.Hdf5Loader](https://ptycho.github.io/ptypy/rst/ptypy.core.html#ptypy.core.data.PtyScan). In this example, we are using the ```MoonFlowerScan``` which provides simulated diffraction data from a synthetic probe (the moon) and a synthetic object (the flower).\n",
    "```python\n",
    "p.scans.MF.data= u.Param()\n",
    "p.scans.MF.data.name = \"MoonFlowerScan\"\n",
    "p.scans.MF.data.shape = 128\n",
    "p.scans.MF.data.num_frames = 200\n",
    "p.scans.MF.data.save = None\n",
    "p.scans.MF.data.density = 0.2\n",
    "p.scans.MF.data.photons = 1e8\n",
    "p.scans.MF.data.psf = 0.\n",
    "```"
   ]
  },
  {
   "cell_type": "markdown",
   "id": "3e57fe53-91c4-4cdb-9f00-b7569bc0f7ec",
   "metadata": {},
   "source": [
    "<div class=\"alert alert-success\" markdown=\"1\">\n",
    "<strong>Tip</strong><br>To learn more about data management and how to subclass <code>PtyScan</code>, visit this <a href url=\"https://ptycho.github.io/ptypy/rst/data_management.html\">tutorial</a> from the main PtyPy documentation.\n",
    "</div>"
   ]
  },
  {
   "cell_type": "markdown",
   "id": "501e82dc-daea-4bca-b83e-8fbbf6f51b74",
   "metadata": {},
   "source": [
    "Finally, we need to define one (or more) reconstruction engines which specify which ptychographic algorithm(s) should be used in the reconstruction. In this example, we define ```engine00``` to use the difference map (DM) algorithm with 80 iterations.\n",
    "```python\n",
    "p.engines = u.Param()\n",
    "p.engines.engine00 = u.Param()\n",
    "p.engines.engine00.name = \"DM\"\n",
    "p.engines.engine00.numiter = 80\n",
    "```"
   ]
  },
  {
   "cell_type": "markdown",
   "id": "cfeebe5a-bee7-42d7-be14-348c36aba056",
   "metadata": {},
   "source": [
    "At the end of our script (notebook) we can create a [ptypy.core.Ptycho](https://ptycho.github.io/ptypy/rst/ptypy.core.html#ptypy.core.ptycho.Ptycho) object by passing the parameter tree ```p``` and ```level=5``` which initialises everything and starts the reconstruction.\n",
    "```python\n",
    "P = ptypy.core.Ptycho(p,level=5)\n",
    "```"
   ]
  },
  {
   "cell_type": "markdown",
   "id": "0717274a-efa0-43f6-9365-8ac98794dcdc",
   "metadata": {},
   "source": [
    "After loading/simulating the diffraction data, initialising the model/engine and running 80 iterations of difference map the output should look something like this\n",
    "```bash\n",
    "Full: loading data for scan MF (161 diffraction frames, 161 PODs, 1 probe(s) and 1 object(s))\n",
    "Full: loading data for scan MF (reformatting probe/obj/exit)\n",
    "Full: loading data for scan MF (initializing probe/obj/exit)\n",
    "DM: initializing engine\n",
    "DM: preparing engine\n",
    "DM: Iteration # 80/80 :: Fourier 5.37e+01, Photons 1.55e+01, Exit 4.78e+00\n",
    "==== This reconstruction relied on the following work ==========================\n",
    "The Ptypy framework:\n",
    "    Enders B. and Thibault P., \"A computational framework for ptychographic reconstructions\" Proc. Royal Soc. A 472 (2016) 20160640, doi: 10.1098/rspa.2016.0640.\n",
    "The difference map reconstruction algorithm:\n",
    "    Thibault et al., \"Probe retrieval in ptychographic coherent diffractive imaging\" Ultramicroscopy 109 (2009) 338, doi: 10.1016/j.ultramic.2008.12.011.\n",
    "================================================================================\n",
    "```"
   ]
  },
  {
   "cell_type": "markdown",
   "id": "b8e5cb08-774d-4d83-a4ec-fface95d4687",
   "metadata": {},
   "source": [
    "To visualise the results of the reconstruction, we can use ```u.plot_recon_from_ptycho(P)``` to produce an image like this \n",
    "\n",
    "![](_assets/moonflower_recons_plot.png)"
   ]
  },
  {
   "cell_type": "markdown",
   "id": "1e7d8f70-db57-4f46-acdf-2568dd116d03",
   "metadata": {},
   "source": [
    "<div class=\"alert alert-warning\" markdown=\"1\">\n",
    "    <strong>Exersice</strong><br>Run the MoonFlower example below and inspect the attributes of the <code>Ptycho</code> instance <code>P</code>. Can you figure out what the reconstructed pixel size is for this example?\n",
    "</div>"
   ]
  },
  {
   "cell_type": "markdown",
   "id": "df145c2a-4bbf-422e-ab24-00c063bbf4fc",
   "metadata": {},
   "source": [
    "<div class=\"alert alert-warning\" markdown=\"1\">\n",
    "    <strong>Exersice</strong><br>Change the <code>verbose_level</code> to <code>info</code> or <code>debug</code> and observe the change in output. Can you find a reference to the reconstructed pixel size in the log?\n",
    "</div>"
   ]
  },
  {
   "cell_type": "markdown",
   "id": "30e0dcc3-bb9f-49dc-a918-40512620debc",
   "metadata": {},
   "source": [
    "<div class=\"alert alert-warning\" markdown=\"1\">\n",
    "    <strong>Exersice</strong><br>Where the <code>Ptycho</code> instance is being created, change the <code>level</code> from 5 to 4 and observe the output. Did PtyPy actually run the engine? and what happens if we now do <code>P.run()</code>?\n",
    "</div>"
   ]
  },
  {
   "cell_type": "markdown",
   "id": "7d4f0e99-2943-4e0e-bbcf-2cf342f0d167",
   "metadata": {},
   "source": [
    "---"
   ]
  },
  {
   "cell_type": "code",
   "execution_count": null,
   "id": "1d7891fd-e0a0-4459-afac-43a68d1f5c22",
   "metadata": {},
   "outputs": [],
   "source": [
    "import ptypy\n",
    "import ptypy.utils as u\n",
    "\n",
    "# Create parameter tree\n",
    "p = u.Param()\n",
    "\n",
    "# Set verbose level, can be \"interactive\", \"info\" or \"debug\"\n",
    "p.verbose_level = \"interactive\"\n",
    "\n",
    "# Basic I/O settings (no files saved in this case)\n",
    "p.io = u.Param()\n",
    "p.io.rfile = None\n",
    "p.io.autosave = u.Param(active=False)\n",
    "p.io.autoplot = u.Param(active=False)\n",
    "p.io.interaction = u.Param(active=False)\n",
    "\n",
    "# Define the scan model\n",
    "p.scans = u.Param()\n",
    "p.scans.MF = u.Param()\n",
    "p.scans.MF.name = \"Full\"\n",
    "\n",
    "# Data loader / simulator \n",
    "# Generate 200 frames (128x128px) of diffraction data\n",
    "p.scans.MF.data= u.Param()\n",
    "p.scans.MF.data.name = \"MoonFlowerScan\"\n",
    "p.scans.MF.data.shape = 128\n",
    "p.scans.MF.data.num_frames = 200\n",
    "p.scans.MF.data.save = None\n",
    "p.scans.MF.data.density = 0.2\n",
    "p.scans.MF.data.photons = 1e8\n",
    "p.scans.MF.data.psf = 0.\n",
    "\n",
    "# Define reconstruction engine\n",
    "p.engines = u.Param()\n",
    "p.engines.engine00 = u.Param()\n",
    "p.engines.engine00.name = \"DM\"\n",
    "p.engines.engine00.numiter = 80\n",
    "\n",
    "# Prepare and run\n",
    "P = ptypy.core.Ptycho(p,level=5)\n",
    "\n",
    "# Display the results\n",
    "u.plot_recon_from_ptycho(P)"
   ]
  }
 ],
 "metadata": {
  "kernelspec": {
   "display_name": "Python 3.10 [DLS Conda]",
   "language": "python",
   "name": "conda-env-DLS_Conda-python3.10-kernel.json"
  },
  "language_info": {
   "codemirror_mode": {
    "name": "ipython",
    "version": 3
   },
   "file_extension": ".py",
   "mimetype": "text/x-python",
   "name": "python",
   "nbconvert_exporter": "python",
   "pygments_lexer": "ipython3",
   "version": "3.10.4"
  }
 },
 "nbformat": 4,
 "nbformat_minor": 5
}
