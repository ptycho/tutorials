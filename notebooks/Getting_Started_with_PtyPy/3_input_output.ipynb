{
 "cells": [
  {
   "cell_type": "markdown",
   "id": "0b772dd4-9aa4-48d9-9a4f-98e2d7f4fa12",
   "metadata": {},
   "source": [
    "# Input/Output Parameters\n",
    "**Learning more about the ```io``` section of the parameter tree - how to save the final result and intermediates into ```.ptyr``` files, and how to use live plotting with Jupyter notebooks.**"
   ]
  },
  {
   "cell_type": "markdown",
   "id": "4a3ab37b-cb0e-46af-94c7-fb7d8a9a32b6",
   "metadata": {},
   "source": [
    "In the ```p.io``` section of the parameter tree we can specify where we would like our output to be written to. First, we can set a root directory for all further input/output operations, e.g. \"/tmp\"\n",
    "```python\n",
    "p.io.home = \"/tmp\"\n",
    "```"
   ]
  },
  {
   "cell_type": "markdown",
   "id": "f59b0694-99ec-4e02-8758-5eaea86163b4",
   "metadata": {},
   "source": [
    "PtyPy saves its results into ```.ptyr``` files which are basically [HDF5](https://docs.hdfgroup.org/hdf5/develop/) files and can therefore be inspected by any software/library that supports the HDF5 format, e.g. [h5py](https://docs.h5py.org/en/stable/). We can now specify that the main output file should be placed in a subfolder ```recon```  relative to the root directory\n",
    "```python\n",
    "p.io.rfile =  \"recons/%(run)s_%(engine)s_%(iterations)04d.ptyr\"\n",
    "```\n",
    "where ```%(run)s``` is dynamically replaced by the string defined in ```p.run```, ```%(engine)s``` by the name of the engine used for the reconstructions and ```%(iterations)04d``` by the total number of iterations at the end formatted as a 4-digit integer."
   ]
  },
  {
   "cell_type": "markdown",
   "id": "c8929f3a-4cc2-47e6-b7cc-6173386d0daa",
   "metadata": {},
   "source": [
    "## Saving intermediates to file"
   ]
  },
  {
   "cell_type": "markdown",
   "id": "e5364bcc-3a69-43ec-8a7b-a63af44635b3",
   "metadata": {},
   "source": [
    "There is also the option to auto-save intermediate states of the reconstruction at a given ```interval``` into a subfolder ```dumps``` relative to the root directory\n",
    "```python\n",
    "p.io.autosave = u.Param()\n",
    "p.io.autosave.active = True\n",
    "p.io.autosave.interval = 10\n",
    "p.io.autosave.rfile = 'dumps/%(run)s_%(engine)s_%(iterations)04d.ptyr'\n",
    "```\n",
    "where ```%(run)s```, ```%(engine)s``` and ```%(iterations)04d``` are again dynamic labels."
   ]
  },
  {
   "cell_type": "markdown",
   "id": "d7a87165-892f-4897-80be-7cdef3fdfab8",
   "metadata": {},
   "source": [
    "<div class=\"alert alert-warning\" markdown=\"1\">\n",
    "    <strong>Exersice</strong><br>Modify the <code>p.io.home</code> path in the example below to wherever you would like the PtyPy output to be, run the reconstruction and observe all the new files saved to <code>p.io.home</code>. Use <code>ptypy.utils.plot_recon_from_ptyr</code> to look at the MoonFlower reconstruction at different iterations. \n",
    "</div>"
   ]
  },
  {
   "cell_type": "markdown",
   "id": "53080c06-2b70-4eaf-9d88-5575c77c13e0",
   "metadata": {},
   "source": [
    "<div class=\"alert alert-success\" markdown=\"1\">\n",
    "    <strong>Hint</strong><br>You can use shell commands within Jupyter Notebooks to explore the filesystem, i.e. <code>ls /tmp</code> to list all files in /tmp.\n",
    "</div>"
   ]
  },
  {
   "cell_type": "markdown",
   "id": "30c1bfeb-ff3b-4542-a3a5-506160a8dd79",
   "metadata": {},
   "source": [
    "## Live-plotting"
   ]
  },
  {
   "cell_type": "markdown",
   "id": "3346a613-6dee-4370-86fc-bbcbc6390b43",
   "metadata": {},
   "source": [
    "And finally, PtyPy has live-viewing capabilities that can be controlled with ```p.io.interaction``` and ```p.io.autoplot```, these are mostly useful when running a reconstruction script from a terminal with graphics enabled. They can also be used in a server-client setup, where the plotclient is running on a different machine than the reconstruction (server), see [Live visualisation](../Advanced_Topics/visualisation.ipynb) for more details. Since we are working with Jupyter notebooks for most parts of this tutorial, we turn off those features\n",
    "```python\n",
    "p.io.autoplot = u.Param(active=False)\n",
    "p.io.interaction = u.Param(active=False)\n",
    "```\n",
    "\n",
    "Instead, we can use ```p.io.jupyter_autoplot``` to enable live plotting displayed within the notebook itself\n",
    "```python\n",
    "p.io.jupyter_autoplot = u.Param(active=True)\n",
    "```\n",
    "which will display the current status of the reconstruction after every contiguous block of iterations (```p.engines.engine00.numiter_contiguous```) using ```ptypy.utils.plot_recon``` with default settings. For the object subplot, the level of cropping and auto-scaling can be modified using ```p.io.jupyter_autoplot.cropping``` and ```p.io.jupyter_plotting.outlier_percentile```. "
   ]
  },
  {
   "cell_type": "markdown",
   "id": "5cd94f96-316a-44ab-9d91-f697bd5ba4a4",
   "metadata": {},
   "source": [
    "<div class=\"alert alert-info\" markdown=\"1\">\n",
    "<strong>Note</strong><br><code>p.io.jupyter_autoplot</code> only works with Jupyter notebooks in conjunction with <code>p.verbose_level = \"interactive\"</code>.\n",
    "</div>"
   ]
  },
  {
   "cell_type": "markdown",
   "id": "e828b53a-7099-4223-8d25-4b8aa7ffcd37",
   "metadata": {},
   "source": [
    "<div class=\"alert alert-warning\" markdown=\"1\">\n",
    "    <strong>Exersice</strong><br>Modify the <code>p.io.jupyter_autoplot.cropping</code> and <code>p.io.jupyter_autoplot.outlier_percentile</code> to observe the effect these parameters have on the live reconstruction plot.  \n",
    "</div>"
   ]
  },
  {
   "cell_type": "markdown",
   "id": "32a955e6-ea40-412e-8952-66b9981d4bc2",
   "metadata": {},
   "source": [
    "---"
   ]
  },
  {
   "cell_type": "code",
   "execution_count": null,
   "id": "a2691492-675d-434e-9ef9-b8e27a5dbb64",
   "metadata": {},
   "outputs": [],
   "source": [
    "import ptypy\n",
    "import ptypy.utils as u\n",
    "\n",
    "p = u.Param()\n",
    "p.verbose_level = \"interactive\"\n",
    "\n",
    "# Run label (ID)\n",
    "p.run = \"moonflower\"\n",
    "\n",
    "# I/O settings\n",
    "p.io = u.Param()\n",
    "\n",
    "# Set the root path for all input/output operations\n",
    "# Change this to wherever you would like \n",
    "p.io.home = \"/tmp\"\n",
    "\n",
    "# Path to final .ptyr output file \n",
    "# using variables p.run, engine name and total nr. of iterations\n",
    "p.io.rfile =  \"recons/%(run)s_%(engine)s_%(iterations)04d.ptyr\"\n",
    "\n",
    "# Save intermediate .ptyr files (dumps) every 10 iterations\n",
    "p.io.autosave = u.Param()\n",
    "p.io.autosave.active = True\n",
    "p.io.autosave.interval = 10\n",
    "p.io.autosave.rfile = 'dumps/%(run)s_%(engine)s_%(iterations)04d.ptyr'\n",
    "\n",
    "# Turn off traditional auto plotting\n",
    "p.io.autoplot = u.Param(active=False)\n",
    "p.io.interaction = u.Param(active=False)\n",
    "\n",
    "# Live-plotting during the reconstruction\n",
    "# that works with jupyter notebooks\n",
    "p.io.jupyter_autoplot = u.Param(active=True)\n",
    "p.io.jupyter_autoplot.cropping = 0.2\n",
    "p.io.jupyter_autoplot.outlier_percentile = 0.1\n",
    "\n",
    "p.scans = u.Param()\n",
    "p.scans.MF = u.Param()\n",
    "p.scans.MF.name = \"Full\"\n",
    "p.scans.MF.data= u.Param()\n",
    "p.scans.MF.data.name = \"MoonFlowerScan\"\n",
    "p.scans.MF.data.shape = 128\n",
    "p.scans.MF.data.num_frames = 200\n",
    "p.scans.MF.data.save = None\n",
    "p.scans.MF.data.density = 0.2\n",
    "p.scans.MF.data.photons = 1e8\n",
    "p.scans.MF.data.psf = 0\n",
    "\n",
    "p.engines = u.Param()\n",
    "p.engines.engine00 = u.Param()\n",
    "p.engines.engine00.name = \"DM\"\n",
    "p.engines.engine00.numiter = 80\n",
    "p.engines.engine00.numiter_contiguous = 5\n",
    "\n",
    "P = ptypy.core.Ptycho(p,level=5)"
   ]
  },
  {
   "cell_type": "code",
   "execution_count": null,
   "id": "91a12c7a-7469-4fe8-8b81-9cb7b4ea8bbf",
   "metadata": {},
   "outputs": [],
   "source": [
    "import ptypy.utils as u\n",
    "import os\n",
    "ptyr_filename = os.path.join(p.io.home, \"dumps/moonflower_DM_0010.ptyr\")\n",
    "u.plot_recon_from_ptyr(ptyr_filename)"
   ]
  }
 ],
 "metadata": {
  "kernelspec": {
   "display_name": "PtyPy",
   "language": "python",
   "name": "ptypy_pycuda"
  },
  "language_info": {
   "codemirror_mode": {
    "name": "ipython",
    "version": 3
   },
   "file_extension": ".py",
   "mimetype": "text/x-python",
   "name": "python",
   "nbconvert_exporter": "python",
   "pygments_lexer": "ipython3",
   "version": "3.9.15"
  }
 },
 "nbformat": 4,
 "nbformat_minor": 5
}
