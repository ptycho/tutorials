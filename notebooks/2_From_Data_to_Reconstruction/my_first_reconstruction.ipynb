{
 "cells": [
  {
   "cell_type": "markdown",
   "id": "7266af21-f9fb-4fe9-bb10-a8865fa36acf",
   "metadata": {},
   "source": [
    "# My first reconstruction"
   ]
  },
  {
   "cell_type": "markdown",
   "id": "598f71fa-129c-419c-ac9e-55e97690e3f6",
   "metadata": {},
   "source": [
    "**Loading ptychographic data into PtyPy from an HDF5 file, running a phase retrieval engine and inspecting the output.**"
   ]
  },
  {
   "cell_type": "markdown",
   "id": "5b3e54e6-d516-4a66-bcfe-59d2f38ae875",
   "metadata": {},
   "source": [
    "---"
   ]
  },
  {
   "cell_type": "code",
   "execution_count": null,
   "id": "8faefcc7-8b44-426f-8246-c3a93e471942",
   "metadata": {},
   "outputs": [],
   "source": [
    "import ptypy\n",
    "import ptypy.utils as u\n",
    "\n",
    "# This will import the HDF5Loader class\n",
    "ptypy.load_ptyscan_module(\"hdf5_loader\")\n",
    "\n",
    "# Path to HDF5 file with raw data\n",
    "path_to_data = \"/dls/science/users/iat69393/workshop/i08_gold_binned.h5\"\n",
    "\n",
    "# Create parameter tree\n",
    "p = u.Param()\n",
    "\n",
    "# Set verbose level to interactive\n",
    "p.verbose_level = \"interactive\"\n",
    "\n",
    "# Set home path and io settings (no files saved)\n",
    "p.io = u.Param()\n",
    "p.io.rfile = None\n",
    "p.io.autosave = u.Param(active=False)\n",
    "p.io.autoplot = u.Param(active=False)\n",
    "p.io.interaction = u.Param(active=False)\n",
    "\n",
    "# Define the scan model\n",
    "p.scans = u.Param()\n",
    "p.scans.scan_00 = u.Param()\n",
    "p.scans.scan_00.name = 'Full'\n",
    "\n",
    "# Initial illumination (based on simulated optics)\n",
    "p.scans.scan_00.illumination = u.Param()\n",
    "p.scans.scan_00.illumination.model = None\n",
    "p.scans.scan_00.illumination.photons = None\n",
    "p.scans.scan_00.illumination.aperture = u.Param()\n",
    "p.scans.scan_00.illumination.aperture.form = \"circ\"\n",
    "p.scans.scan_00.illumination.aperture.size = 333e-6\n",
    "p.scans.scan_00.illumination.propagation = u.Param()\n",
    "p.scans.scan_00.illumination.propagation.focussed = 13.725e-3\n",
    "p.scans.scan_00.illumination.propagation.parallel = 45e-6\n",
    "\n",
    "# Data loader\n",
    "p.scans.scan_00.data = u.Param()\n",
    "p.scans.scan_00.data.name = 'Hdf5Loader'\n",
    "p.scans.scan_00.data.orientation = 0\n",
    "\n",
    "# Read diffraction data\n",
    "p.scans.scan_00.data.intensities = u.Param()\n",
    "p.scans.scan_00.data.intensities.file = path_to_data\n",
    "p.scans.scan_00.data.intensities.key = \"data\"\n",
    "\n",
    "# Read positions data\n",
    "p.scans.scan_00.data.positions = u.Param()\n",
    "p.scans.scan_00.data.positions.file = path_to_data\n",
    "p.scans.scan_00.data.positions.slow_key = \"posy_mm\"\n",
    "p.scans.scan_00.data.positions.slow_multiplier = 1e-3\n",
    "p.scans.scan_00.data.positions.fast_key = \"posx_mm\"\n",
    "p.scans.scan_00.data.positions.fast_multiplier = 1e-3\n",
    "\n",
    "# Read meta data: photon energy\n",
    "p.scans.scan_00.data.recorded_energy = u.Param()\n",
    "p.scans.scan_00.data.recorded_energy.file = path_to_data\n",
    "p.scans.scan_00.data.recorded_energy.key = \"energy_ev\"\n",
    "p.scans.scan_00.data.recorded_energy.multiplier = 1e-3\n",
    "\n",
    "# Read meta data: detector distance\n",
    "p.scans.scan_00.data.recorded_distance = u.Param()\n",
    "p.scans.scan_00.data.recorded_distance.file = path_to_data\n",
    "p.scans.scan_00.data.recorded_distance.key = \"det_distance_mm\"\n",
    "p.scans.scan_00.data.recorded_distance.multiplier = 1e-3\n",
    "\n",
    "# Read meta data: detector pixelsize\n",
    "p.scans.scan_00.data.recorded_psize = u.Param()\n",
    "p.scans.scan_00.data.recorded_psize.file = path_to_data\n",
    "p.scans.scan_00.data.recorded_psize.key = \"det_pixelsize_um\"\n",
    "p.scans.scan_00.data.recorded_psize.multiplier = 1e-6\n",
    "\n",
    "# p.scans.scan_00.data.psize = 44.0e-6\n",
    "\n",
    "# Define reconstruction engine (using DM)\n",
    "p.engines = u.Param()\n",
    "p.engines.engine = u.Param()\n",
    "p.engines.engine.name = \"DM\"\n",
    "p.engines.engine.numiter = 100\n",
    "p.engines.engine.numiter_contiguous = 1\n",
    "p.engines.engine.alpha = 0.9\n",
    "p.engines.engine.probe_support = None\n",
    "p.engines.engine.probe_update_start = 0\n",
    "\n",
    "# Run reconstruction\n",
    "P = ptypy.core.Ptycho(p,level=5)\n",
    "\n",
    "# Display the results\n",
    "u.plot_recon_from_ptycho(P)"
   ]
  }
 ],
 "metadata": {
  "kernelspec": {
   "display_name": "Python 3.10 [DLS Conda]",
   "language": "python",
   "name": "conda-env-DLS_Conda-python3.10-kernel.json"
  },
  "language_info": {
   "codemirror_mode": {
    "name": "ipython",
    "version": 3
   },
   "file_extension": ".py",
   "mimetype": "text/x-python",
   "name": "python",
   "nbconvert_exporter": "python",
   "pygments_lexer": "ipython3",
   "version": "3.10.4"
  }
 },
 "nbformat": 4,
 "nbformat_minor": 5
}
