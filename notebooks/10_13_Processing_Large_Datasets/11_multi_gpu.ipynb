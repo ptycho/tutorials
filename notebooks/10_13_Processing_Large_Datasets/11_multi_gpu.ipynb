{
 "cells": [
  {
   "attachments": {},
   "cell_type": "markdown",
   "id": "e0ea6405-a823-47b7-b42f-2219032d3158",
   "metadata": {},
   "source": [
    "# Using multiple GPUs\n",
    "**Learning how to make use of the multi-GPU capabilities in PtyPy.**\n",
    "\n",
    "All GPU-accelerated examples so far were using only a single GPU working on the reconstructions, but PtyPy supports multi-GPU execution for all its engines via MPI. Unfortunately, this is not compatible with Jupyter notebooks, but we can instead use the shell terminal provided within JupyterHub. "
   ]
  },
  {
   "attachments": {},
   "cell_type": "markdown",
   "id": "3e051388-19ea-47c9-899f-924a7d4744c8",
   "metadata": {},
   "source": [
    "<div class=\"alert alert-success\" markdown=\"1\">\n",
    "<strong>Tip</strong><br>When running PtyPy with a Python script in a compute environment that uses OpenMPI, e.g. as part of a cluster job, the same multi-GPU capabilities of engines such as DM, RAAR or ML can be achieved with <code>mpirun -n 4 python ptypy_example.py</code>\n",
    "</div>"
   ]
  },
  {
   "cell_type": "markdown",
   "id": "21e2773b-4e04-401f-bf06-94458d33832e",
   "metadata": {},
   "source": [
    "## Making a Python run script for PtyPy\n",
    "Revisiting the earlier example on using [JSON/YAML Config Files](../01_05_Getting_Started_With_PtyPy/2_yaml_json_config.ipynb) we have saved the parameter tree from the previous example on [Working With Large Data](./10_working_with_large_data.ipynb) into a config file named [./config/dls_i08_nanogold_spiral.yml](./config/dls_i08_nanogold_spiral.yml) making a few changes, i.e. switching to ```verbose_level=info``` and providing ```p.io.rfile``` for saving the output of the reconstruction. We can then generate a simple Python script\n",
    "\n",
    "```python\n",
    "with open(\"./ptypy_run_dls_i08_nanogold.py\", \"w\") as f:\n",
    "    f.write(\"\"\"\\\n",
    "import ptypy\n",
    "ptypy.load_ptyscan_module(\"hdf5_loader\")\n",
    "ptypy.load_gpu_engines(\"cuda\")  \n",
    "p = ptypy.utils.param_from_yaml(\"config/dls_i08_nanogold_spiral.yaml\")\n",
    "P = ptypy.core.Ptycho(p,level=5)\n",
    "\"\"\")\n",
    "```\n",
    "\n",
    "which imports the relevant PtyScan and GPU acceleration modules, loads the parameter tree and runs the reconstruction."
   ]
  },
  {
   "cell_type": "markdown",
   "id": "bc8f7e85-7830-406d-813f-89aae9f47459",
   "metadata": {},
   "source": [
    "---"
   ]
  },
  {
   "cell_type": "code",
   "execution_count": null,
   "id": "08bb435c-6be9-448e-8563-998dab52f7ab",
   "metadata": {},
   "outputs": [],
   "source": [
    "with open(\"./ptypy_run_dls_i08_nanogold.py\", \"w\") as f:\n",
    "    f.write(\"\"\"\\\n",
    "import ptypy\n",
    "ptypy.load_ptyscan_module(\"hdf5_loader\")\n",
    "ptypy.load_gpu_engines(\"cuda\")  \n",
    "p = ptypy.utils.param_from_yaml(\"config/dls_i08_nanogold_spiral.yaml\")\n",
    "P = ptypy.core.Ptycho(p,level=5)\n",
    "\"\"\")"
   ]
  },
  {
   "cell_type": "markdown",
   "id": "c3c5ac6f-9434-4de3-9779-8620c72d1a10",
   "metadata": {},
   "source": [
    "## Executing script in terminal on JupyterHub\n",
    "\n",
    "Now, we need to open a new terminal (click blue \"+\" in top left corner of JupyterHub and then \"Terminal\") which should look something like this\n",
    "\n",
    "```\n",
    "(PtyPy) benedikt@nid001848:/global/u2/b/benedikt> \n",
    "```\n",
    "\n",
    "with the (PtyPy) environment already loaded. We can then navigate to the folder for this example \n",
    "\n",
    "```bash\n",
    "cd $HOME/tutorials/notebooks/10_13_Processing_Large_Datasets\n",
    "```\n",
    "\n",
    "and execute a multi-GPU reconstruction via ```srun``` using all 4 GPUs that is available on a Perlmutter node. \n",
    "\n",
    "```bash\n",
    "srun -n 4 -c 2 --gpus-per-task=1 --gpu-bin=None python ptypy_run_dls_i08_nanogold.py\n",
    "```"
   ]
  },
  {
   "attachments": {},
   "cell_type": "markdown",
   "id": "07d43a8e-86fd-4b2d-b6bf-28a529ef9d6c",
   "metadata": {},
   "source": [
    "<div class=\"alert alert-warning\" markdown=\"1\">\n",
    "    <strong>Exercise</strong><br>Run the I08 nanogold example in a terminal using 4 GPUs and compare the speed against the previous example from the Jupyter notebook which was using just a single GPU.\n",
    "</div>"
   ]
  },
  {
   "cell_type": "markdown",
   "id": "55ba37ab-fb1a-4789-b8c8-9789cd6735e3",
   "metadata": {},
   "source": [
    "---"
   ]
  },
  {
   "cell_type": "raw",
   "id": "7b3f7bcd-f2d1-457f-a8a3-4aea34dbdcff",
   "metadata": {},
   "source": [
    "# commands to copy into terminal\n",
    "cd $HOME/tutorials/notebooks/10_13_Processing_Large_Datasets\n",
    "srun -n 4 -c 2 --gpus-per-task=1 --gpu-bin=None python ptypy_run_dls_i08_nanogold.py"
   ]
  },
  {
   "cell_type": "markdown",
   "id": "9def6601-8738-43cc-abf5-293db0dc1118",
   "metadata": {},
   "source": [
    "## Display reconstruction from ptyr file\n",
    "Once the multi-GPU reconstruction has finished, we can switch back to this notebook and display the final output using\n",
    "\n",
    "```python\n",
    "import ptypy.utils.plot_client as pc\n",
    "fig = pc.figure_from_ptyr(\"./recons/dls_i08_nanogold_DM_pycuda_0200.ptyr\")\n",
    "```"
   ]
  },
  {
   "cell_type": "markdown",
   "id": "45d3b13d-e4e5-4ad7-bf2c-340c810858ce",
   "metadata": {},
   "source": [
    "---"
   ]
  },
  {
   "cell_type": "code",
   "execution_count": null,
   "id": "b92719ab-66fc-4978-9c3f-ff9fe053bdba",
   "metadata": {},
   "outputs": [],
   "source": [
    "import ptypy.utils.plot_client as pc\n",
    "fig = pc.figure_from_ptyr(\"./recons/dls_i08_nanogold_DM_pycuda_0200.ptyr\")"
   ]
  }
 ],
 "metadata": {
  "kernelspec": {
   "display_name": "PtyPy",
   "language": "python",
   "name": "ptypy_pycuda"
  },
  "language_info": {
   "codemirror_mode": {
    "name": "ipython",
    "version": 3
   },
   "file_extension": ".py",
   "mimetype": "text/x-python",
   "name": "python",
   "nbconvert_exporter": "python",
   "pygments_lexer": "ipython3",
   "version": "3.9.15"
  }
 },
 "nbformat": 4,
 "nbformat_minor": 5
}
