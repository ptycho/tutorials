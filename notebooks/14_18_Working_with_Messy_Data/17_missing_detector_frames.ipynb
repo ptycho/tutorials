{
 "cells": [
  {
   "cell_type": "markdown",
   "id": "413a3048-7624-4fa6-a0e5-a2d92e55f9d0",
   "metadata": {},
   "source": [
    "# Missing Detector Frames"
   ]
  },
  {
   "cell_type": "markdown",
   "id": "e0ea6405-a823-47b7-b42f-2219032d3158",
   "metadata": {},
   "source": [
    "**Learning how to deal with missing detector frames and how bad they can affect the reconstruction.**"
   ]
  },
  {
   "cell_type": "markdown",
   "id": "bc8f7e85-7830-406d-813f-89aae9f47459",
   "metadata": {},
   "source": [
    "---"
   ]
  },
  {
   "cell_type": "markdown",
   "id": "27a5e48c",
   "metadata": {},
   "source": [
    "# todo"
   ]
  }
 ],
 "metadata": {
  "kernelspec": {
   "display_name": "PtyPy",
   "language": "python",
   "name": "ptypy_pycuda"
  },
  "language_info": {
   "codemirror_mode": {
    "name": "ipython",
    "version": 3
   },
   "file_extension": ".py",
   "mimetype": "text/x-python",
   "name": "python",
   "nbconvert_exporter": "python",
   "pygments_lexer": "ipython3",
   "version": "3.9.15"
  }
 },
 "nbformat": 4,
 "nbformat_minor": 5
}
