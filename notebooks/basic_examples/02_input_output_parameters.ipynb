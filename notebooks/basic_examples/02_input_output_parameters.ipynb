{
 "cells": [
  {
   "cell_type": "markdown",
   "id": "0b772dd4-9aa4-48d9-9a4f-98e2d7f4fa12",
   "metadata": {},
   "source": [
    "# Input/Output Parameters\n",
    "**Learning more about the ```io``` section of the parameter tree - how to save the final result and intermediates into ```.ptyr``` files, and how to use live plotting with Jupyter notebooks.**"
   ]
  },
  {
   "cell_type": "markdown",
   "id": "4a3ab37b-cb0e-46af-94c7-fb7d8a9a32b6",
   "metadata": {},
   "source": [
    "In the ```p.io``` section of the parameter tree we can specify where we would like our output to be written to. First, we can set a root directory for all further input/output operations, e.g. \"/tmp\"\n",
    "```python\n",
    "p.io.home = \"/tmp\"\n",
    "```"
   ]
  },
  {
   "cell_type": "markdown",
   "id": "f59b0694-99ec-4e02-8758-5eaea86163b4",
   "metadata": {},
   "source": [
    "PtyPy saves its results into ```.ptyr``` files which are basically [HDF5](https://docs.hdfgroup.org/hdf5/develop/) files and can therefore be inspected by any software/library that supports the HDF5 format, e.g. [h5py](https://docs.h5py.org/en/stable/). We can now specify that the main output file should be placed in a subfolder ```recon```  relative to the root directory\n",
    "```python\n",
    "p.io.rfile =  \"recons/%(run)s_%(engine)s_%(iterations)04d.ptyr\"\n",
    "```\n",
    "where ```%(run)s``` is dynamically replaced by the string defined in ```p.run```, ```%(engine)s``` by the name of the engine used for the reconstructions and ```%(iterations)04d``` by the total number of iterations at the end formatted as a 4-digit integer."
   ]
  },
  {
   "cell_type": "markdown",
   "id": "3346a613-6dee-4370-86fc-bbcbc6390b43",
   "metadata": {},
   "source": [
    "## Live-plotting\n",
    "\n",
    "And finally, PtyPy has some live-viewing capabilities that are controlled with ```p.io.interaction``` and ```p.io.autoplot```. This feature has mostly been designed to run in a threaded mode where the plotting process is separate from the main processing thread. This server-client setup can also be used in situations where the plotting client is running on a different machine than the reconstruction (server), see [Live visualisation](../supplementary_examples/02_live_visualisation.ipynb) for more details. However, since we are working with Jupyter notebooks we won't need any threading and can do all the plotting inside the notebook using matlotlib's inline functionality by setting the following parameters\n",
    "```python\n",
    "p.io.interaction = u.Param(active=False)\n",
    "p.io.autoplot = u.Param()\n",
    "p.io.autoplot.active = True\n",
    "p.io.autoplot.threaded = False\n",
    "p.io.autoplot.layout = \"jupyter\"\n",
    "p.io.autoplot.interval = 10\n",
    "```\n",
    "which will display the current status of the reconstruction after every block of iterations as specified by ```p.io.autoplot.interval```."
   ]
  },
  {
   "cell_type": "markdown",
   "id": "5cd94f96-316a-44ab-9d91-f697bd5ba4a4",
   "metadata": {},
   "source": [
    "<div class=\"alert alert-info\" markdown=\"1\">\n",
    "<strong>Note</strong><br>Live-plotting in Jupyter notebooks using <code>p.io.autoplot</code> works best together with <code>p.verbose_level = \"interactive\"</code>.\n",
    "</div>"
   ]
  },
  {
   "cell_type": "markdown",
   "id": "e5364bcc-3a69-43ec-8a7b-a63af44635b3",
   "metadata": {},
   "source": [
    "## Saving intermediates to file\n",
    "\n",
    "There is also the option to auto-save intermediate states of the reconstruction at a given ```interval``` into a subfolder ```dumps``` relative to the root directory\n",
    "```python\n",
    "p.io.autosave = u.Param()\n",
    "p.io.autosave.active = True\n",
    "p.io.autosave.interval = 10\n",
    "p.io.autosave.rfile = 'dumps/%(run)s_%(engine)s_%(iterations)04d.ptyr'\n",
    "```\n",
    "where ```%(run)s```, ```%(engine)s``` and ```%(iterations)04d``` are again dynamic labels."
   ]
  },
  {
   "cell_type": "markdown",
   "id": "d7a87165-892f-4897-80be-7cdef3fdfab8",
   "metadata": {},
   "source": [
    "<div class=\"alert alert-warning\" markdown=\"1\">\n",
    "    <strong>Challenge</strong><br>Modify the <code>p.io.home</code> path in the example below to wherever you would like the PtyPy output to be, run the reconstruction and observe all the new files saved to the path specified as <code>p.io.home</code>. You can use <code>ptypy.utils.plot_recon_from_ptyr</code> to look at the MoonFlower reconstruction at different iterations based on <code>.ptyr</code> snapshots. \n",
    "</div>"
   ]
  },
  {
   "cell_type": "markdown",
   "id": "32a955e6-ea40-412e-8952-66b9981d4bc2",
   "metadata": {},
   "source": [
    "---"
   ]
  },
  {
   "cell_type": "code",
   "execution_count": null,
   "id": "a2691492-675d-434e-9ef9-b8e27a5dbb64",
   "metadata": {
    "tags": []
   },
   "outputs": [],
   "source": [
    "import ptypy\n",
    "import ptypy.utils as u\n",
    "\n",
    "p = u.Param()\n",
    "p.verbose_level = \"interactive\"\n",
    "\n",
    "# Run label (ID)\n",
    "p.run = \"moonflower\"\n",
    "\n",
    "# I/O settings\n",
    "p.io = u.Param()\n",
    "\n",
    "# Set the root path for all input/output operations\n",
    "# Change this to wherever you would like \n",
    "p.io.home = \"/tmp\"\n",
    "\n",
    "# Path to final .ptyr output file \n",
    "# using variables p.run, engine name and total nr. of iterations\n",
    "p.io.rfile =  \"recons/%(run)s_%(engine)s_%(iterations)04d.ptyr\"\n",
    "\n",
    "# Turn off interaction server\n",
    "p.io.interaction = u.Param(active=False)\n",
    "\n",
    "# Use non-threaded live plotting\n",
    "p.io.autoplot = u.Param()\n",
    "p.io.autoplot.active=True\n",
    "p.io.autoplot.threaded = False\n",
    "p.io.autoplot.layout = \"jupyter\"\n",
    "p.io.autoplot.interval = 10\n",
    "\n",
    "# Save intermediate .ptyr files (dumps) every 10 iterations\n",
    "p.io.autosave = u.Param()\n",
    "p.io.autosave.active = True\n",
    "p.io.autosave.interval = 10\n",
    "p.io.autosave.rfile = 'dumps/%(run)s_%(engine)s_%(iterations)04d.ptyr'\n",
    "\n",
    "p.scans = u.Param()\n",
    "p.scans.MF = u.Param()\n",
    "p.scans.MF.name = \"Full\"\n",
    "p.scans.MF.data= u.Param()\n",
    "p.scans.MF.data.name = \"MoonFlowerScan\"\n",
    "p.scans.MF.data.shape = 128\n",
    "p.scans.MF.data.num_frames = 200\n",
    "p.scans.MF.data.save = None\n",
    "p.scans.MF.data.density = 0.2\n",
    "p.scans.MF.data.photons = 1e8\n",
    "p.scans.MF.data.psf = 0\n",
    "\n",
    "p.engines = u.Param()\n",
    "p.engines.engine00 = u.Param()\n",
    "p.engines.engine00.name = \"DM\"\n",
    "p.engines.engine00.numiter = 80\n",
    "p.engines.engine00.numiter_contiguous = 5\n",
    "\n",
    "P = ptypy.core.Ptycho(p,level=5)"
   ]
  },
  {
   "cell_type": "code",
   "execution_count": null,
   "id": "91a12c7a-7469-4fe8-8b81-9cb7b4ea8bbf",
   "metadata": {
    "tags": []
   },
   "outputs": [],
   "source": [
    "import os\n",
    "import ptypy.utils.plot_client as pc\n",
    "ptyr_filename = os.path.join(p.io.home, \"dumps/moonflower_DM_0010.ptyr\")\n",
    "fig = pc.figure_from_ptyr(ptyr_filename)"
   ]
  }
 ],
 "metadata": {
  "kernelspec": {
   "display_name": "PtyPy",
   "language": "python",
   "name": "ptypy_env"
  },
  "language_info": {
   "codemirror_mode": {
    "name": "ipython",
    "version": 3
   },
   "file_extension": ".py",
   "mimetype": "text/x-python",
   "name": "python",
   "nbconvert_exporter": "python",
   "pygments_lexer": "ipython3",
   "version": "3.11.7"
  }
 },
 "nbformat": 4,
 "nbformat_minor": 5
}
