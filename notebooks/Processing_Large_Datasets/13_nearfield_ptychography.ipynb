{
 "cells": [
  {
   "cell_type": "markdown",
   "id": "413a3048-7624-4fa6-a0e5-a2d92e55f9d0",
   "metadata": {},
   "source": [
    "#  Nearfield Ptychography"
   ]
  },
  {
   "cell_type": "markdown",
   "id": "e0ea6405-a823-47b7-b42f-2219032d3158",
   "metadata": {},
   "source": [
    "**Learning how to reconstruct a nearfield ptychography dataset with PtyPy.**"
   ]
  },
  {
   "cell_type": "markdown",
   "id": "bc8f7e85-7830-406d-813f-89aae9f47459",
   "metadata": {},
   "source": [
    "---"
   ]
  },
  {
   "cell_type": "code",
   "execution_count": null,
   "id": "ee3cbe0e-7393-4e07-8e6c-a0063eb55dbe",
   "metadata": {},
   "outputs": [],
   "source": [
    "import ptypy, h5py, os\n",
    "import ptypy.utils as u\n",
    "\n",
    "# This will import the HDF5Loader class\n",
    "ptypy.load_ptyscan_module(\"hdf5_loader\")\n",
    "\n",
    "# This will import the GPU engines\n",
    "ptypy.load_gpu_engines(\"cuda\")  \n",
    "\n",
    "# Root directory of tutorial data\n",
    "tutorial_data_home = \"/dls/science/groups/imaging/ptypy_tutorials/\"\n",
    "\n",
    "# Path to HDF5 file with raw data\n",
    "dataset = \"esrf_id16_AlNi_nearfield/S00084_data_bin1_newpos_2048x2048.h5\"\n",
    "\n",
    "# Absolute path to HDF5 file with raw data\n",
    "path_to_data = os.path.join(tutorial_data_home, dataset)\n",
    "\n",
    "with h5py.File(path_to_data, \"r\") as f:\n",
    "    flatfield = f[\"flatfield\"][:]\n",
    "\n",
    "# Create parameter tree\n",
    "p = u.Param()\n",
    "\n",
    "# Set verbose level to interactive\n",
    "p.verbose_level = \"interactive\"\n",
    "\n",
    "# Scan label\n",
    "p.run = \"esrf_id16_AlNi_nearfield\"\n",
    "\n",
    "# Set io settings (no files saved)\n",
    "p.io = u.Param()\n",
    "p.io.rfile = None\n",
    "p.io.autosave = u.Param(active=False)\n",
    "p.io.autoplot = u.Param(active=False)\n",
    "p.io.interaction = u.Param(active=False)\n",
    "\n",
    "# Define the scan model\n",
    "p.scans = u.Param()\n",
    "p.scans.scan_00 = u.Param()\n",
    "p.scans.scan_00.name = 'Full'\n",
    "\n",
    "# Switch propagation to nearfield\n",
    "p.scans.scan_00.propagation = \"nearfield\"\n",
    "\n",
    "# Initial illumination (based on flatfield)\n",
    "# p.scans.scan_00.illumination = u.Param()\n",
    "# p.scans.scan_00.illumination.model = flatfield #\"stxm\"\n",
    "# p.scans.scan_00.illumination.aperture = None\n",
    "# p.scans.scan_00.illumination.propagation = u.Param()\n",
    "# p.scans.scan_00.illumination.propagation.parallel = 0.019\n",
    "\n",
    "p.scans.scan_00.illumination = u.Param()\n",
    "p.scans.scan_00.illumination.model = \"stxm\"\n",
    "p.scans.scan_00.illumination.aperture = None\n",
    "p.scans.scan_00.illumination.propagation = u.Param()\n",
    "p.scans.scan_00.illumination.propagation.parallel = 0.019\n",
    "\n",
    "# Initial object\n",
    "p.scans.scan_00.sample = u.Param()\n",
    "p.scans.scan_00.sample.model = None\n",
    "p.scans.scan_00.sample.diversity = None\n",
    "p.scans.scan_00.sample.process = None\n",
    "\n",
    "# Coherence parameters (modes)\n",
    "p.scans.scan_00.coherence = u.Param()\n",
    "p.scans.scan_00.coherence.num_probe_modes = 1\n",
    "p.scans.scan_00.coherence.num_object_modes = 1\n",
    "\n",
    "# Data loader\n",
    "p.scans.scan_00.data = u.Param()\n",
    "p.scans.scan_00.data.name = 'Hdf5Loader'\n",
    "p.scans.scan_00.data.orientation = 3\n",
    "\n",
    "p.scans.scan_00.data.intensities = u.Param()\n",
    "p.scans.scan_00.data.intensities.file = path_to_data\n",
    "p.scans.scan_00.data.intensities.key = 'data'\n",
    "\n",
    "p.scans.scan_00.data.positions = u.Param()\n",
    "p.scans.scan_00.data.positions.file = path_to_data\n",
    "p.scans.scan_00.data.positions.slow_key = 'posy'\n",
    "p.scans.scan_00.data.positions.slow_multiplier = 1\n",
    "p.scans.scan_00.data.positions.fast_key = 'posx'\n",
    "p.scans.scan_00.data.positions.fast_multiplier = 1\n",
    "\n",
    "p.scans.scan_00.data.save = None   \n",
    "p.scans.scan_00.data.auto_center = False  \n",
    "p.scans.scan_00.data.load_parallel = 'data' \n",
    "p.scans.scan_00.data.center = 'fftshift' \n",
    "p.scans.scan_00.data.psize = 50.705  \n",
    "p.scans.scan_00.data.distance = 0.019 \n",
    "p.scans.scan_00.data.energy = 17.05\n",
    "\n",
    "# Reconstruct using GPU-accelerated DM/ML engines\n",
    "p.engines = u.Param()\n",
    "p.engines.DM = u.Param()\n",
    "p.engines.DM.name = 'DM_pycuda'\n",
    "p.engines.DM.numiter = 2000\n",
    "p.engines.DM.numiter_contiguous = 10\n",
    "p.engines.DM.probe_support = None\n",
    "p.engines.DM.clip_object = (.2, 1.1)\n",
    "p.engines.DM.fourier_power_bound = 0.0\n",
    "p.engines.DM.probe_update_start = 0\n",
    "\n",
    "p.engines.ML = u.Param()\n",
    "p.engines.ML.name = 'ML_pycuda'\n",
    "p.engines.ML.numiter = 2000\n",
    "p.engines.ML.numiter_contiguous = 10\n",
    "p.engines.ML.ML_type = 'Gaussian'\n",
    "p.engines.ML.floating_intensities = False\n",
    "p.engines.ML.probe_support = 1.0\n",
    "p.engines.ML.reg_del2 = True\n",
    "p.engines.ML.reg_del2_amplitude = 0.005\n",
    "p.engines.ML.scale_precond = False\n",
    "p.engines.ML.probe_update_start = 0\n",
    "\n",
    "# Run reconstruction\n",
    "P = ptypy.core.Ptycho(p,level=5)\n",
    "\n",
    "# Display the results\n",
    "u.plot_recon_from_ptycho(P)"
   ]
  },
  {
   "cell_type": "code",
   "execution_count": null,
   "id": "71e39ef8-be90-4413-90b9-1cb95b0c0f62",
   "metadata": {},
   "outputs": [],
   "source": [
    "u.plot_recon_from_ptycho(P, cropping=0.001, probe_channel=\"a\")"
   ]
  },
  {
   "cell_type": "code",
   "execution_count": null,
   "id": "f69a4dca-1f07-489c-83a5-82b9bf478225",
   "metadata": {},
   "outputs": [],
   "source": [
    "u.plot_recon_from_ptycho(P, probe_min=0, probe_max=200, probe_channel=\"a\")"
   ]
  },
  {
   "cell_type": "code",
   "execution_count": null,
   "id": "3f0b0861-0576-4d28-9b69-7c956fba820b",
   "metadata": {},
   "outputs": [],
   "source": [
    "import matplotlib.pyplot as plt"
   ]
  },
  {
   "cell_type": "code",
   "execution_count": null,
   "id": "fe683b49-7807-48af-8870-c6fb4f3c7c63",
   "metadata": {},
   "outputs": [],
   "source": [
    "plt.imshow(flatfield, vmax=20000)\n",
    "plt.colorbar()"
   ]
  },
  {
   "cell_type": "code",
   "execution_count": null,
   "id": "d13bd714-372d-412b-9160-2dcfb68a83eb",
   "metadata": {},
   "outputs": [],
   "source": [
    "plt.imshow(P.diff.S[\"S0000\"].data[0])"
   ]
  },
  {
   "cell_type": "code",
   "execution_count": null,
   "id": "3c8a6322-aec8-4ef2-a222-b338c7f4cfdb",
   "metadata": {},
   "outputs": [],
   "source": []
  }
 ],
 "metadata": {
  "kernelspec": {
   "display_name": "Python 3.9 (CUDA 11.4)",
   "language": "python",
   "name": "python3"
  },
  "language_info": {
   "codemirror_mode": {
    "name": "ipython",
    "version": 3
   },
   "file_extension": ".py",
   "mimetype": "text/x-python",
   "name": "python",
   "nbconvert_exporter": "python",
   "pygments_lexer": "ipython3",
   "version": "3.9.9"
  }
 },
 "nbformat": 4,
 "nbformat_minor": 5
}
