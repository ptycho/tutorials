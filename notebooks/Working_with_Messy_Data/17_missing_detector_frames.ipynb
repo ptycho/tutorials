{
 "cells": [
  {
   "cell_type": "markdown",
   "id": "413a3048-7624-4fa6-a0e5-a2d92e55f9d0",
   "metadata": {},
   "source": [
    "# Missing Detector Frames"
   ]
  },
  {
   "cell_type": "markdown",
   "id": "e0ea6405-a823-47b7-b42f-2219032d3158",
   "metadata": {},
   "source": [
    "**Learning how to deal with missing detector frames and how bad they can affect the reconstruction.**"
   ]
  },
  {
   "cell_type": "markdown",
   "id": "bc8f7e85-7830-406d-813f-89aae9f47459",
   "metadata": {},
   "source": [
    "---"
   ]
  },
  {
   "cell_type": "code",
   "execution_count": null,
   "id": "ee3cbe0e-7393-4e07-8e6c-a0063eb55dbe",
   "metadata": {},
   "outputs": [],
   "source": []
  }
 ],
 "metadata": {
  "kernelspec": {
   "display_name": "Python 3.9 (CUDA 11.4)",
   "language": "python",
   "name": "python3"
  },
  "language_info": {
   "codemirror_mode": {
    "name": "ipython",
    "version": 3
   },
   "file_extension": ".py",
   "mimetype": "text/x-python",
   "name": "python",
   "nbconvert_exporter": "python",
   "pygments_lexer": "ipython3",
   "version": "3.9.9"
  }
 },
 "nbformat": 4,
 "nbformat_minor": 5
}
